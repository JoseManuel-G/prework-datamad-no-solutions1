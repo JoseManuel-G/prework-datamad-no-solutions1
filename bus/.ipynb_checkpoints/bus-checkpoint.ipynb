{
 "cells": [
  {
   "cell_type": "markdown",
   "metadata": {},
   "source": [
    "# Bus\n",
    "\n",
    "This bus has a passenger entry and exit control system to monitor the number of occupants it carries and thus detect when there is too high a capacity.\n",
    "\n",
    "At each stop the entry and exit of passengers is represented by a tuple consisting of two integer numbers.\n",
    "```\n",
    "bus_stop = (in, out)\n",
    "```\n",
    "The succession of stops is represented by a list of these tuples.\n",
    "```\n",
    "stops = [(in1, out1), (in2, out2), (in3, out3), (in4, out4)]\n",
    "```\n",
    "\n",
    "## Goals:\n",
    "* lists, tuples\n",
    "* while/for loops\n",
    "* minimum, maximum, length\n",
    "* average, standard deviation\n",
    "\n",
    "## Tasks\n",
    "1. Calculate the number of stops.\n",
    "2. Assign to a variable a list whose elements are the number of passengers at each stop (in-out),\n",
    "3. Find the maximum occupation of the bus.\n",
    "4. Calculate the average occupation. And the standard deviation.\n"
   ]
  },
  {
   "cell_type": "code",
   "execution_count": 1,
   "metadata": {},
   "outputs": [],
   "source": [
    "# variables\n",
    "\n",
    "stops = [(10, 0), (4, 1), (3, 5), (3, 4), (5, 1), (1, 5), (5, 8), (4, 6), (2, 3)]"
   ]
  },
  {
   "cell_type": "code",
   "execution_count": 1,
   "metadata": {},
   "outputs": [
    {
     "name": "stdout",
     "output_type": "stream",
     "text": [
      "9\n"
     ]
    }
   ],
   "source": [
    "# 1. Calculate the number of stops.\n",
    "stops = [(10, 0), (4, 1), (3, 5), (3, 4), (5, 1), (1, 5), (5, 8), (4, 6), (2, 3)]\n",
    "print(len(stops))"
   ]
  },
  {
   "cell_type": "markdown",
   "metadata": {},
   "source": [
    "**Expected output**:\n",
    "```\n",
    "9\n",
    "```"
   ]
  },
  {
   "cell_type": "code",
   "execution_count": 4,
   "metadata": {},
   "outputs": [
    {
     "name": "stdout",
     "output_type": "stream",
     "text": [
      "10\n",
      "13\n",
      "11\n",
      "10\n",
      "14\n",
      "10\n",
      "7\n",
      "5\n",
      "4\n"
     ]
    }
   ],
   "source": [
    "# 2. Assign a variable a list whose elements are the number of passengers in each stop: \n",
    "# Each item depends on the previous item in the list + in - out.\n",
    "first_stop= stops[0]\n",
    "list(first_stop)\n",
    "passenger1st_stop = first_stop[0]-first_stop[1]\n",
    "print(passenger1st_stop)\n",
    "second_stop = stops[1]\n",
    "list(second_stop)\n",
    "passenger2nd_stop = second_stop[0]-second_stop[1]+passenger1st_stop\n",
    "print(passenger2nd_stop)\n",
    "thirst_stop=stops[2]\n",
    "list(thirst_stop)\n",
    "passenger3st_stop = thirst_stop[0] - thirst_stop[1] + passenger2nd_stop\n",
    "print(passenger3st_stop)\n",
    "four_stop = stops[3]\n",
    "passenger4_stop = four_stop[0] - four_stop[1] + passenger3st_stop\n",
    "print(passenger4_stop)\n",
    "five_stop=stops[4]\n",
    "passenger5_stop = five_stop[0]-five_stop[1]+passenger4_stop\n",
    "print(passenger5_stop)\n",
    "six_stop=stops[5]\n",
    "passenger6_stop = six_stop[0]-six_stop[1]+passenger5_stop\n",
    "print(passenger6_stop)\n",
    "seven_stop=stops[6]\n",
    "passenger7_stop = seven_stop[0]-seven_stop[1]+passenger6_stop\n",
    "print(passenger7_stop)\n",
    "eight_stop=stops[7]\n",
    "passenger8_stop = eight_stop[0]-eight_stop[1]+passenger7_stop\n",
    "print(passenger8_stop)\n",
    "nine_stop=stops[8]\n",
    "passenger9_stop = nine_stop[0]-nine_stop[1]+passenger8_stop\n",
    "print(passenger9_stop)"
   ]
  },
  {
   "cell_type": "markdown",
   "metadata": {},
   "source": [
    "**Expected output**:\n",
    "```\n",
    "[10, 13, 11, 10, 14, 10, 7, 5, 4]\n",
    "```"
   ]
  },
  {
   "cell_type": "code",
   "execution_count": 5,
   "metadata": {},
   "outputs": [
    {
     "data": {
      "text/plain": [
       "14"
      ]
     },
     "execution_count": 5,
     "metadata": {},
     "output_type": "execute_result"
    }
   ],
   "source": [
    "# 3. Find the maximum occupation of the bus.\n",
    "list_passengers = [10, 13, 11, 10, 14, 10, 7, 5, 4]\n",
    "max(list_passengers)"
   ]
  },
  {
   "cell_type": "markdown",
   "metadata": {},
   "source": [
    "**Expected output**:\n",
    "```\n",
    "14\n",
    "```"
   ]
  },
  {
   "cell_type": "code",
   "execution_count": 6,
   "metadata": {},
   "outputs": [
    {
     "name": "stdout",
     "output_type": "stream",
     "text": [
      "9.333333333333334\n"
     ]
    }
   ],
   "source": [
    "# 4. Calculate the average occupation. And the standard deviation.\n",
    "num = sum(list_passengers)\n",
    "den = len(list_passengers)\n",
    "avg = num / den\n",
    "print(avg)\n"
   ]
  },
  {
   "cell_type": "markdown",
   "metadata": {},
   "source": [
    "**Expected output**:\n",
    "```\n",
    "9.333333333333334\n",
    "3.197221015541813\n",
    "```"
   ]
  }
 ],
 "metadata": {
  "kernelspec": {
   "display_name": "Python 3",
   "language": "python",
   "name": "python3"
  },
  "language_info": {
   "codemirror_mode": {
    "name": "ipython",
    "version": 3
   },
   "file_extension": ".py",
   "mimetype": "text/x-python",
   "name": "python",
   "nbconvert_exporter": "python",
   "pygments_lexer": "ipython3",
   "version": "3.8.3"
  }
 },
 "nbformat": 4,
 "nbformat_minor": 2
}
